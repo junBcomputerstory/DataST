{
  "nbformat": 4,
  "nbformat_minor": 0,
  "metadata": {
    "colab": {
      "name": "2021-2-DataSt-HW10-석홍준-32172086.ipynb",
      "provenance": [],
      "collapsed_sections": []
    },
    "kernelspec": {
      "name": "python3",
      "display_name": "Python 3"
    },
    "language_info": {
      "name": "python"
    }
  },
  "cells": [
    {
      "cell_type": "markdown",
      "metadata": {
        "id": "46ED_gOUuIyE"
      },
      "source": [
        "아래에 코드셀을 만들고, 셀에 클래스 BinarySearchMap을 구현하라. "
      ]
    },
    {
      "cell_type": "code",
      "metadata": {
        "id": "1UcbD5aflaa8"
      },
      "source": [
        "def selection_sort(A):\n",
        "  n=len(A)\n",
        "  for i in range(n-1):\n",
        "    least=i\n",
        "    for j in range(i+1,n):\n",
        "      if (A[j].key<A[least].key):\n",
        "        least=j\n",
        "    A[i],A[least]=A[least],A[i]\n",
        "def binary_search(A,key,low,high):\n",
        "  if(low<=high):\n",
        "    middle=(low+high)//2\n",
        "    if key==A[middle].key:\n",
        "      return middle\n",
        "    elif key<A[middle].key:\n",
        "      return binary_search(A,key,low,middle-1)\n",
        "    else:\n",
        "      return binary_search(A,key,middle+1,high)\n",
        "  return None\n",
        "class Entry:\n",
        "  def __init__(self,key,value):\n",
        "    self.key=key\n",
        "    self.value=value\n",
        "  def __str__(self):\n",
        "    return str(\"%s:%s\"%(self.key,self.value))\n",
        "class BinarySearchMap:\n",
        "  def __init__(self):\n",
        "    self.table=[]\n",
        "  def size(self):return len(self.table)\n",
        "  def display(self,msg):\n",
        "    print(msg)\n",
        "    for entry in self.table:\n",
        "      print(\" \",entry)\n",
        "  def insert(self,key,value):\n",
        "    self.table.append(Entry(key,value))\n",
        "    selection_sort(self.table)\n",
        "  def search(self,key):\n",
        "    pos=binary_search(self.table,key,0,self.size()-1)\n",
        "    if pos is not None:\n",
        "      return self.table[pos]\n",
        "    else:\n",
        "      return None\n",
        "  def delete(self,key):\n",
        "    for i in range(self.size()):\n",
        "      if self.table[i].key==key:\n",
        "        self.table.pop(i)\n",
        "        return"
      ],
      "execution_count": null,
      "outputs": []
    },
    {
      "cell_type": "markdown",
      "metadata": {
        "id": "jOYIHQslsd0A"
      },
      "source": [
        "아래의 코드를 이용하여 테스트를 수행하시오. "
      ]
    },
    {
      "cell_type": "code",
      "metadata": {
        "id": "HFyp2IcEsi4c",
        "colab": {
          "base_uri": "https://localhost:8080/"
        },
        "outputId": "5c18c5e1-0934-40b7-e66c-f1d8de494e88"
      },
      "source": [
        "map = BinarySearchMap()\t\t\t\t\t\t\n",
        "map.insert('data', '자료')\t\t\t\t\t\n",
        "map.insert('structure', '구조')\n",
        "map.insert('sequential search', '선형 탐색')\n",
        "map.insert('game', '게임')\n",
        "map.insert('binary search', '이진 탐색')\t\n",
        "map.display(\"나의 단어장: \")\t\t\t\n",
        "\n",
        "print(\"탐색:game --> \", map.search('game'))\t\n",
        "print(\"탐색:over --> \", map.search('over'))\n",
        "print(\"탐색:data --> \", map.search('data'))\n",
        "\n",
        "map.delete('game')\t\t\t\t\t\t\n",
        "map.display(\"나의 단어장: \")"
      ],
      "execution_count": null,
      "outputs": [
        {
          "output_type": "stream",
          "name": "stdout",
          "text": [
            "나의 단어장: \n",
            "  binary search:이진 탐색\n",
            "  data:자료\n",
            "  game:게임\n",
            "  sequential search:선형 탐색\n",
            "  structure:구조\n",
            "탐색:game -->  game:게임\n",
            "탐색:over -->  None\n",
            "탐색:data -->  data:자료\n",
            "나의 단어장: \n",
            "  binary search:이진 탐색\n",
            "  data:자료\n",
            "  sequential search:선형 탐색\n",
            "  structure:구조\n"
          ]
        }
      ]
    },
    {
      "cell_type": "markdown",
      "metadata": {
        "id": "w9rXA9hpu8KL"
      },
      "source": [
        "##7.6"
      ]
    },
    {
      "cell_type": "markdown",
      "metadata": {
        "id": "c7TV7nI3vG4n"
      },
      "source": [
        "아래에 코드셀을 만들고, 셀에 클래스 LinearProbingHashMap 을 구현하라."
      ]
    },
    {
      "cell_type": "code",
      "metadata": {
        "id": "HzIZrAaclbL3"
      },
      "source": [
        "class LinearProbingHashMap:\n",
        "  def __init__(self,M):\n",
        "    self.table=[None]*M\n",
        "    self.record=[None]*M\n",
        "    self.M=M\n",
        "  def hashFn(self,key):\n",
        "    sum=0\n",
        "    for c in key:\n",
        "      sum=sum+ord(c)\n",
        "    return sum%self.M\n",
        "  def insert(self,key,value):\n",
        "    i=self.hashFn(key)\n",
        "    first=i\n",
        "    while not self.table[i]==None:\n",
        "      i=i+1\n",
        "      if i>self.M-1:\n",
        "        i=0\n",
        "      if i==first:\n",
        "        print(\"자리가없습니다\")\n",
        "        break\n",
        "    self.table[i]=Entry(key,value)\n",
        "    print(\"first:%d now:%d\"%(first,i))\n",
        "    \n",
        "  def delete(self,key):\n",
        "    i=self.hashFn(key)\n",
        "    first=i\n",
        "    while (self.table[i]!=None) or (self.record[i]=='$'):\n",
        "      if self.table[i].key==key:\n",
        "        self.table[i]=None\n",
        "        self.record[i]='$'\n",
        "        break\n",
        "      i=i+1\n",
        "      if i >self.M-1:\n",
        "        i=0\n",
        "      if i==first:\n",
        "        return None\n",
        "    return None\n",
        "  def search(self,key):\n",
        "    i=self.hashFn(key)\n",
        "    first=i\n",
        "    while (self.table[i]!=None )or (self.record[i]=='$'):\n",
        "      if self.table[i].key==key:\n",
        "        return self.table[i]\n",
        "      i=i+1\n",
        "      if i>self.M-1:\n",
        "        i=0\n",
        "      if i==first:\n",
        "        return None\n",
        "  \n",
        "  def display(self,msg):\n",
        "    print(msg)\n",
        "    for i in range(len(self.table)):\n",
        "      if not self.table[i]==None:\n",
        "        print(\" \",self.table[i],i)\n",
        "\n",
        "\n"
      ],
      "execution_count": null,
      "outputs": []
    },
    {
      "cell_type": "markdown",
      "metadata": {
        "id": "_PRMFZEKvdz7"
      },
      "source": [
        "아래의 코드를 이용하여 테스트를 수행하시오."
      ]
    },
    {
      "cell_type": "code",
      "metadata": {
        "id": "znE830aqwHcn",
        "colab": {
          "base_uri": "https://localhost:8080/"
        },
        "outputId": "1099123f-7936-4016-e4b7-c8ba2ce877d3"
      },
      "source": [
        "map = LinearProbingHashMap(7)\t\t\t\t\t\t\n",
        "map.insert('data', '자료')\t\t\t\t\t\n",
        "map.insert('structure', '구조')\n",
        "map.insert('sequential search', '선형 탐색')\n",
        "map.insert('game', '게임')\n",
        "map.insert('binary search', '이진 탐색')\t\n",
        "map.display(\"나의 단어장: \")\t\t\t\n",
        "print(\"탐색:game --> \", map.search('game'))\t\n",
        "print(\"탐색:over --> \", map.search('over'))\n",
        "print(\"탐색:data --> \", map.search('data'))\n",
        "\n",
        "map.delete('game')\t\t\t\t\t\t\n",
        "map.display(\"나의 단어장: \")"
      ],
      "execution_count": null,
      "outputs": [
        {
          "output_type": "stream",
          "name": "stdout",
          "text": [
            "first:4 now:4\n",
            "first:1 now:1\n",
            "first:2 now:2\n",
            "first:4 now:5\n",
            "first:5 now:6\n",
            "나의 단어장: \n",
            "  structure:구조 1\n",
            "  sequential search:선형 탐색 2\n",
            "  data:자료 4\n",
            "  game:게임 5\n",
            "  binary search:이진 탐색 6\n",
            "탐색:game -->  game:게임\n",
            "탐색:over -->  None\n",
            "탐색:data -->  data:자료\n",
            "나의 단어장: \n",
            "  structure:구조 1\n",
            "  sequential search:선형 탐색 2\n",
            "  data:자료 4\n",
            "  binary search:이진 탐색 6\n"
          ]
        }
      ]
    }
  ]
}