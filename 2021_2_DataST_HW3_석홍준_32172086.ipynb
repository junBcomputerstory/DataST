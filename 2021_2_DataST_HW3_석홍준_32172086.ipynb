{
  "nbformat": 4,
  "nbformat_minor": 0,
  "metadata": {
    "colab": {
      "name": "2021-2-DataST-HW3-석홍준-32172086.ipynb",
      "provenance": [],
      "collapsed_sections": [],
      "include_colab_link": true
    },
    "kernelspec": {
      "name": "python3",
      "display_name": "Python 3"
    },
    "language_info": {
      "name": "python"
    }
  },
  "cells": [
    {
      "cell_type": "markdown",
      "metadata": {
        "id": "view-in-github",
        "colab_type": "text"
      },
      "source": [
        "<a href=\"https://colab.research.google.com/github/junBcomputerstory/DataST/blob/main/2021_2_DataST_HW3_%EC%84%9D%ED%99%8D%EC%A4%80_32172086.ipynb\" target=\"_parent\"><img src=\"https://colab.research.google.com/assets/colab-badge.svg\" alt=\"Open In Colab\"/></a>"
      ]
    },
    {
      "cell_type": "markdown",
      "metadata": {
        "id": "AJ2jp6bcJg2V"
      },
      "source": [
        "＃2021-2 자료구조 3주차 과제 \n",
        "- 마감: 2021.09.20(월요일)\n",
        "- 이름: \n",
        "- 학번: \n",
        "\n",
        "- 과제: 2문제, 각 문제 당 5점 \n",
        "1. P3.3\n",
        "2. P3.4\n",
        "\n",
        "** 풀지 못한 문제 - 만일 과제의 문제를 다 풀지 못한 경우, 여기에 풀지 못한 번호를 적으시오. \n",
        "\n",
        "\n",
        "## <font color='red' > 과제는 문제에 대한 코딩이 완성되고 테스트를 통해 적절성이 검증된 경우만 점수가 부여되며, 이외 사항에 대해서는 0점 처리 </font>"
      ]
    },
    {
      "cell_type": "markdown",
      "metadata": {
        "id": "Gag1en13KazR"
      },
      "source": [
        "## 3.3 \n",
        "3.3문제에 해당하는 코딩\n",
        "나눠서하면 실행이안되고 모아서하면돼서 코딩만 모아놨습니다."
      ]
    },
    {
      "cell_type": "code",
      "metadata": {
        "id": "oROlP7qhJS-u"
      },
      "source": [
        "class Set:\n",
        "  def __init__(self):\n",
        "    self.items=[]\n",
        "  \n",
        "  def contains(self,item):\n",
        "    for i in range(len(self.items)):\n",
        "      if self.items[i]==item:\n",
        "        return True\n",
        "    return False\n",
        "  \n",
        "  def delete(self,elem):\n",
        "    if self.contains(elem)==True:\n",
        "      a=self.items.index(elem)\n",
        "      self.items.pop(a)\n",
        "  \n",
        "  def insert(self,elem):\n",
        "    if self.contains(elem)==False:\n",
        "      self.items.append(elem)\n",
        "\n",
        "  def union(self,setB):\n",
        "    setC=Set()\n",
        "    setC.items=list(self.items)\n",
        "    for elem in setB.items:\n",
        "      if self.contains(elem)==False:\n",
        "        setC.items.append(elem)\n",
        "    return setC.items\n",
        "\n",
        "  def intersect(self,setB):\n",
        "    setC=Set()\n",
        "    for i in setB.items:\n",
        "      if self.contains(i)==True:\n",
        "        setC.items.append(i)\n",
        "    return setC.items\n",
        " \n",
        "  def difference(self,setB):\n",
        "    setC=Set()\n",
        "    for i in self.items:\n",
        "      if setB.contains(i)==False:\n",
        "        setC.items.append(i)\n",
        "    return setC.items\n",
        "  \n",
        "  def __sub__(self,setB):\n",
        "    setC=Set()\n",
        "    for i in self.items:\n",
        "      if setB.contains(i)==False:\n",
        "        setC.items.append(i)\n",
        "    return setC.items\n",
        "  def otherSet(self,setB):\n",
        "    cnt=0\n",
        "    for i in range(len(self.items)):\n",
        "      if setB.contains(self.items[i])==True:\n",
        "        cnt+=1\n",
        "    if cnt==len(self.items):\n",
        "      return True\n",
        "    return False       \n",
        "\n",
        "setA=Set()\n",
        "setB=Set()\n",
        "setA.insert('지갑')\n",
        "setA.insert('빗')\n",
        "setA.insert('거울')\n",
        "setB.insert('지갑')\n",
        "setB.insert('빗')\n",
        "setB.insert('거울')\n",
        "setB.insert('휴대폰')\n",
        "setB.insert('간식')"
      ],
      "execution_count": null,
      "outputs": []
    },
    {
      "cell_type": "markdown",
      "metadata": {
        "id": "MPF9N1VNKyYb"
      },
      "source": [
        "다음 셀에 P3.3(1) 에 해당 하는 부분을 테스트하는 코드를 실행하시오. "
      ]
    },
    {
      "cell_type": "code",
      "metadata": {
        "colab": {
          "base_uri": "https://localhost:8080/"
        },
        "id": "NdHjKfbvF8gF",
        "outputId": "39a73fc1-4eb4-4f27-8153-baf087e15583"
      },
      "source": [
        "if setA.contains('빗'):\n",
        "  print(\"빗은 setA에 포함됩니다\")"
      ],
      "execution_count": null,
      "outputs": [
        {
          "output_type": "stream",
          "name": "stdout",
          "text": [
            "빗은 setA에 포함됩니다\n"
          ]
        }
      ]
    },
    {
      "cell_type": "markdown",
      "metadata": {
        "id": "fr33RZs5LFDa"
      },
      "source": [
        "*다음* 셀에 P3.3 (2) 에 해당 하는 부분을 테스트하는 코드를 실행하시오."
      ]
    },
    {
      "cell_type": "code",
      "metadata": {
        "colab": {
          "base_uri": "https://localhost:8080/"
        },
        "id": "JY6YStFnF9Do",
        "outputId": "d46ddd67-4575-4978-8217-0a82f2c9574f"
      },
      "source": [
        "setA.delete('빗')\n",
        "print(setA.items)"
      ],
      "execution_count": null,
      "outputs": [
        {
          "output_type": "stream",
          "name": "stdout",
          "text": [
            "['지갑', '거울']\n"
          ]
        }
      ]
    },
    {
      "cell_type": "markdown",
      "metadata": {
        "id": "qPAnfl9MLSkd"
      },
      "source": [
        "코드 셀을 아래에 만들고, 셀에 P3.3(3) 에 해당 하는 부분을 테스트하는 코드를 실행하시오.\n",
        "\n"
      ]
    },
    {
      "cell_type": "code",
      "metadata": {
        "id": "Tp7yDLAER9WS",
        "colab": {
          "base_uri": "https://localhost:8080/"
        },
        "outputId": "5991183e-90b7-4c1b-a23b-648241796736"
      },
      "source": [
        " setA.insert('빗')\n",
        " print(\"A와B의 합집합:\",setA.union(setB))\n",
        " print(\"A와B의 교집합:\",setA.intersect(setB))\n",
        " print(\"A와B의 차집합:\",setA.difference(setB))"
      ],
      "execution_count": null,
      "outputs": [
        {
          "output_type": "stream",
          "name": "stdout",
          "text": [
            "A와B의 합집합: ['지갑', '빗', '거울', '휴대폰', '간식']\n",
            "A와B의 교집합: ['지갑', '빗', '거울']\n",
            "A와B의 차집합: []\n"
          ]
        }
      ]
    },
    {
      "cell_type": "markdown",
      "metadata": {
        "id": "Nf2dP5cOO6ea"
      },
      "source": [
        "코드 셀을 아래에 만들고, 셀에 P3.3(4)에 해당 하는 부분을 테스트하는 코드를 실행하시오.\n"
      ]
    },
    {
      "cell_type": "code",
      "metadata": {
        "colab": {
          "base_uri": "https://localhost:8080/"
        },
        "id": "qPv-jkpjPFr9",
        "outputId": "0c529175-a73d-4925-b01d-93fe275144a5"
      },
      "source": [
        "print(setB-setA)"
      ],
      "execution_count": null,
      "outputs": [
        {
          "output_type": "stream",
          "name": "stdout",
          "text": [
            "['휴대폰', '간식']\n"
          ]
        }
      ]
    },
    {
      "cell_type": "markdown",
      "metadata": {
        "id": "-3E00yqYPGyn"
      },
      "source": [
        "코드 셀을 아래에 만들고,셀에 P3.3(5)에 해당 하는 부분을 테스트하는 코드를 실행하시오."
      ]
    },
    {
      "cell_type": "code",
      "metadata": {
        "colab": {
          "base_uri": "https://localhost:8080/"
        },
        "id": "hLRdPO4qPPC1",
        "outputId": "0e23d27c-be69-4710-d171-5afce0611730"
      },
      "source": [
        "if setA.otherSet(setB)==True:\n",
        "  print(\"A는B의 부분집합입니다.\")\n",
        "else:\n",
        "    print(\"A는B의 부분집합이 아닙니다\")"
      ],
      "execution_count": null,
      "outputs": [
        {
          "output_type": "stream",
          "name": "stdout",
          "text": [
            "A는B의 부분집합입니다.\n"
          ]
        }
      ]
    },
    {
      "cell_type": "markdown",
      "metadata": {
        "id": "V2FBR4y3L2Wg"
      },
      "source": [
        "##3.4 (5점) - 코드가 미완성 또는 오류인 경우, 테스트가 지시에 따라 완성되지 않은 경우 0 점 처리 \n",
        "코드 셀을 아래에 만들고, 셀에 주어진 정의 3.3에 따라서 클래스를 작성하시오. "
      ]
    },
    {
      "cell_type": "code",
      "metadata": {
        "id": "RzpJkDEsA_kB"
      },
      "source": [
        "class polynomial():\n",
        "  def __init__(self):\n",
        "    self.cha=[]\n",
        "\n",
        "  def read_poly(self):\n",
        "    max=int(input(\"다항식의 최고차수를 입력하시오:\"))\n",
        "    num=0\n",
        "    for i in range(max,-1,-1):\n",
        "      print(\"\\nx^%d의 계수는?\"%i)\n",
        "      val=int(input())\n",
        "      self.cha.append(val)\n",
        "    self.cha.reverse()\n",
        "    \n",
        "  def degree(self):\n",
        "    return len(self.cha)-1\n",
        "  \n",
        "  def evaluate(self,x):\n",
        "    sum=0\n",
        "    for i in range(len(self.cha)):\n",
        "      sum+=(self.cha[i]*(x**i))\n",
        "    return sum\n",
        "  def add(self,rhs):\n",
        "    C=polynomial()\n",
        "    if len(self.cha)>=len(rhs.cha):\n",
        "      C.cha=list(self.cha)\n",
        "      for i in range(len(rhs.cha)-1,-1,-1):\n",
        "        C.cha[i]=self.cha[i]+rhs.cha[i]    \n",
        "    else:\n",
        "      C.cha[i]=rhs.cha[i]\n",
        "      for i in range(len(self.cha)-1,-1,-1):\n",
        "        C.cha[i]=self.cha[i]+rhs.cha[i]    \n",
        "    return C\n",
        "  def subtract(self,rhs):\n",
        "    C=polynomial()\n",
        "    for i in range(len(rhs.cha)):\n",
        "      j=self.cha[i]-rhs.cha[i]\n",
        "      C.cha.insert(i,j)\n",
        "    return C\n",
        "  def multiply(self,rhs):\n",
        "    C=polynomial()\n",
        "    C.cha=[0]*(len(self.cha)+len(rhs.cha)-1)\n",
        "    for i in range(len(self.cha)):\n",
        "      for j in range(len(rhs.cha)):\n",
        "        C.cha[i+j]+=self.cha[i]*rhs.cha[j]\n",
        "         \n",
        "    return C\n",
        "\n",
        "  def display(self,msg):\n",
        "    print(msg,end=\"\")\n",
        "    for i in range(len(self.cha)-1,0,-1):\n",
        "      print(\"%0.1fX^%d+\"%(self.cha[i],i),end=\"\")\n",
        "    print(\"%0.1f\\n\"%self.cha[0])\n",
        "            \n"
      ],
      "execution_count": null,
      "outputs": []
    },
    {
      "cell_type": "markdown",
      "metadata": {
        "id": "qqRP9VnVMPzp"
      },
      "source": [
        "# 테스트 "
      ]
    },
    {
      "cell_type": "markdown",
      "metadata": {
        "id": "2WGktVlfMGwn"
      },
      "source": [
        "1. 작성된 클래스를 이용하여 두 개의 5차 다항식을 다음과 같이 만드시오. 주어진 리스트는 최대 차수부터 내림차수으로 계수(coefficient)를 표현한 것이며, 프로그램에 맞게 조정하여 입력할 것. \n",
        "- f1 = [10, 0, 0, 0, 6, 3]\n",
        "- f2 = [20, 10, 10, 10, 10, 20]\n",
        "\n",
        "아래에 코드셀을 만들고, 실행하시오. "
      ]
    },
    {
      "cell_type": "code",
      "metadata": {
        "id": "TBWf37xzszpL",
        "colab": {
          "base_uri": "https://localhost:8080/"
        },
        "outputId": "311af18b-fe8e-47e0-aadc-639fde913520"
      },
      "source": [
        "f1=polynomial()\n",
        "f2=polynomial()\n",
        "f3=polynomial()\n",
        "f1.read_poly()\n",
        "f2.read_poly()\n",
        "f1.display(\"f1(x)=\")\n",
        "f2.display(\"f2(x)=\")\n"
      ],
      "execution_count": null,
      "outputs": [
        {
          "output_type": "stream",
          "name": "stdout",
          "text": [
            "다항식의 최고차수를 입력하시오:5\n",
            "\n",
            "x^5의 계수는?\n",
            "10\n",
            "\n",
            "x^4의 계수는?\n",
            "0\n",
            "\n",
            "x^3의 계수는?\n",
            "0\n",
            "\n",
            "x^2의 계수는?\n",
            "0\n",
            "\n",
            "x^1의 계수는?\n",
            "6\n",
            "\n",
            "x^0의 계수는?\n",
            "3\n",
            "다항식의 최고차수를 입력하시오:5\n",
            "\n",
            "x^5의 계수는?\n",
            "20\n",
            "\n",
            "x^4의 계수는?\n",
            "10\n",
            "\n",
            "x^3의 계수는?\n",
            "10\n",
            "\n",
            "x^2의 계수는?\n",
            "10\n",
            "\n",
            "x^1의 계수는?\n",
            "10\n",
            "\n",
            "x^0의 계수는?\n",
            "20\n",
            "f1(x)=10.0X^5+0.0X^4+0.0X^3+0.0X^2+6.0X^1+3.0\n",
            "\n",
            "f2(x)=20.0X^5+10.0X^4+10.0X^3+10.0X^2+10.0X^1+20.0\n",
            "\n"
          ]
        }
      ]
    },
    {
      "cell_type": "markdown",
      "metadata": {
        "id": "X5MXoqBnOxws"
      },
      "source": [
        "2. 위에서 만들어진 두 개의 다항식에 대하여 degree method 를 테스트 하는 코드를 아래 셀에 만들고 수행하시오. "
      ]
    },
    {
      "cell_type": "code",
      "metadata": {
        "id": "LRnUgMfms3Gc",
        "colab": {
          "base_uri": "https://localhost:8080/"
        },
        "outputId": "3261013e-d270-4506-ac0d-11430bd38508"
      },
      "source": [
        "print(\"f1의 최고차수는:\",f1.degree())"
      ],
      "execution_count": null,
      "outputs": [
        {
          "output_type": "stream",
          "name": "stdout",
          "text": [
            "f1의 최고차수는: 5\n"
          ]
        }
      ]
    },
    {
      "cell_type": "markdown",
      "metadata": {
        "id": "RtIjQ_60PA4U"
      },
      "source": [
        "3. 위에서 만들어진 두 개의 다항식에 대하여 evaluate method 를 테스트 하는 코드를 아래 셀에 만들고 수행하시오. "
      ]
    },
    {
      "cell_type": "code",
      "metadata": {
        "id": "UaNsrQkts3qV",
        "colab": {
          "base_uri": "https://localhost:8080/"
        },
        "outputId": "2757c465-ac31-46ca-9f37-e0ca6e327079"
      },
      "source": [
        "print(\"f1에 3를 대입한 값은:\",f1.evaluate(3),end=\"\\n\")\n",
        "print(\"f2에 2를 대입한 값은:\",f2.evaluate(2),end=\"\\n\")"
      ],
      "execution_count": null,
      "outputs": [
        {
          "output_type": "stream",
          "name": "stdout",
          "text": [
            "f1에 3를 대입한 값은: 2451\n",
            "f2에 2를 대입한 값은: 960\n"
          ]
        }
      ]
    },
    {
      "cell_type": "markdown",
      "metadata": {
        "id": "Zik1RNwFPE_7"
      },
      "source": [
        "3. 위에서 만들어진 두 개의 다항식을 add method 를 사용하여 f1 + f2 계산을 수행하는 테스트 하는 코드를 아래 셀에 만들고 수행하시오.결과는 Polynomial 객체이어야 하며, display method를 통해 결과를 가시화 하시오. "
      ]
    },
    {
      "cell_type": "code",
      "metadata": {
        "id": "TevIgnsxG3SR",
        "colab": {
          "base_uri": "https://localhost:8080/"
        },
        "outputId": "7050d636-8e0c-4944-8e4c-3a4f30d1304d"
      },
      "source": [
        "f3=f1.add(f2)\n",
        "f3.display(\"f3(x)=\")"
      ],
      "execution_count": null,
      "outputs": [
        {
          "output_type": "stream",
          "name": "stdout",
          "text": [
            "f3(x)=30.0X^5+10.0X^4+10.0X^3+10.0X^2+16.0X^1+23.0\n",
            "\n"
          ]
        }
      ]
    },
    {
      "cell_type": "markdown",
      "metadata": {
        "id": "fPil_fEMPi4k"
      },
      "source": [
        "4.  위에서 만들어진 두 개의 다항식을 subtract method 를 사용하여 f1 - f2 계산을 수행하는 테스트 하는 코드를 아래 셀에 만들고 수행하시오.결과는 Polynomial 객체이어야 하며, display method를 통해 결과를 가시화 하시오. "
      ]
    },
    {
      "cell_type": "code",
      "metadata": {
        "id": "IP8Bd3BBG3x2",
        "colab": {
          "base_uri": "https://localhost:8080/"
        },
        "outputId": "9ca4d88d-8433-4559-ad4b-dd9c04049c8e"
      },
      "source": [
        "f4=f1.subtract(f2)\n",
        "f4.display(\"f4(x)=\")"
      ],
      "execution_count": null,
      "outputs": [
        {
          "output_type": "stream",
          "name": "stdout",
          "text": [
            "f4(x)=-10.0X^5+-10.0X^4+-10.0X^3+-10.0X^2+-4.0X^1+-17.0\n",
            "\n"
          ]
        }
      ]
    },
    {
      "cell_type": "markdown",
      "metadata": {
        "id": "aNPQPukYPyt-"
      },
      "source": [
        "5. 위에서 만들어진 두 개의 다항식을 multiply method 를 사용하여 f1 * f2 계산을 수행하는 테스트 하는 코드를 아래 셀에 만들고 수행하시오.결과는 Polynomial 객체이어야 하며, display method를 통해 결과를 가시화 하시오. "
      ]
    },
    {
      "cell_type": "code",
      "metadata": {
        "id": "VdUumkDnG5NC",
        "colab": {
          "base_uri": "https://localhost:8080/"
        },
        "outputId": "896c7781-6850-4c73-8fee-19b4be53fc54"
      },
      "source": [
        "f5=f1.multiply(f2)\n",
        "f5.display(\"f5(x)=\")"
      ],
      "execution_count": null,
      "outputs": [
        {
          "output_type": "stream",
          "name": "stdout",
          "text": [
            "f5(x)=200.0X^10+100.0X^9+100.0X^8+100.0X^7+220.0X^6+320.0X^5+90.0X^4+90.0X^3+90.0X^2+150.0X^1+60.0\n",
            "\n"
          ]
        }
      ]
    }
  ]
}