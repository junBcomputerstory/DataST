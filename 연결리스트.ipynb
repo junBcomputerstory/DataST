{
  "nbformat": 4,
  "nbformat_minor": 0,
  "metadata": {
    "colab": {
      "name": "2021-2-DataST-HW7-석홍준-32172086.ipynb",
      "provenance": [],
      "collapsed_sections": []
    },
    "kernelspec": {
      "name": "python3",
      "display_name": "Python 3"
    },
    "language_info": {
      "name": "python"
    }
  },
  "cells": [
    {
      "cell_type": "markdown",
      "metadata": {
        "id": "Gag1en13KazR"
      },
      "source": [
        "## 6.2 \n",
        "\n",
        "아래에 코드셀을 만들고, 클래스 myLinkedList 를  문제 지시에 맞게 구현 하오. "
      ]
    },
    {
      "cell_type": "code",
      "metadata": {
        "id": "Xvr5l5IGuWY1"
      },
      "source": [
        "class Node:\n",
        "  def __init__(self,elem,link=None):\n",
        "    self.data=elem\n",
        "    self.link=link"
      ],
      "execution_count": null,
      "outputs": []
    },
    {
      "cell_type": "code",
      "metadata": {
        "id": "romaHqExlkdN"
      },
      "source": [
        "class myLinkedList:\n",
        "  def __init__(self):\n",
        "    self.head=None\n",
        "  def isempty(self):\n",
        "    return self.head==None\n",
        "  def clear(self):\n",
        "    self.head=None\n",
        "  def size(self):\n",
        "    node=self.head\n",
        "    count=0\n",
        "    while not node==None:\n",
        "      node=node.link\n",
        "      count+=1\n",
        "    return count\n",
        "  def display(self,msg=\"linkedstack:\"):\n",
        "    print(msg,end='')\n",
        "    node=self.head\n",
        "    while not node==None:\n",
        "      print(node.data,end=' ')\n",
        "      node=node.link\n",
        "    print()\n",
        "  \n",
        "  def getNode(self,pos):\n",
        "    if pos<0:return None\n",
        "    node=self.head\n",
        "    while pos>0 and node!=None:\n",
        "      node=node.link\n",
        "      pos=pos-1\n",
        "    return node\n",
        "  def insert(self,pos,elem):\n",
        "    before=self.getNode(pos-1)\n",
        "    if before==None:\n",
        "      self.head=Node(elem,self.head)\n",
        "    else:\n",
        "      node=Node(elem,before.link)\n",
        "      before.link=node\n",
        "  def delete(self,pos):\n",
        "    before=self.getNode(pos-1)\n",
        "    if before==None:\n",
        "      if self.head is not None:\n",
        "        self.head=self.head.link\n",
        "    elif before.link != None:\n",
        "      before.link=before.link.link\n",
        "  def merge(self,n1):\n",
        "    tail=self.getNode(self.size()-1)\n",
        "    if tail==None:\n",
        "      self.head=n1.head\n",
        "      n1.clear\n",
        "    else:\n",
        "      tail.link=n1.head\n",
        "      n1.clear()\n",
        "\n",
        "    \n",
        "      \n",
        "\n"
      ],
      "execution_count": null,
      "outputs": []
    },
    {
      "cell_type": "markdown",
      "metadata": {
        "id": "MPF9N1VNKyYb"
      },
      "source": [
        "아래 테스트 코드를 이용하여, 구현된 merge() 연산을 테스트 하시오. "
      ]
    },
    {
      "cell_type": "code",
      "metadata": {
        "id": "4uu6NNeRjXeU",
        "colab": {
          "base_uri": "https://localhost:8080/"
        },
        "outputId": "32b5434c-ace9-4819-a3e4-208f8129aacd"
      },
      "source": [
        "# test code: DO NOT MODIFY\n",
        "\n",
        "s = myLinkedList()\n",
        "s.insert(0,10)\n",
        "s.insert(1,30)\n",
        "s.insert(2,50)\n",
        "s.insert(3,70)\n",
        "s.insert(4,90)\n",
        "\n",
        "t = myLinkedList()\n",
        "t.insert(0,20)\n",
        "t.insert(1,40)\n",
        "t.insert(2,60)\n",
        "t.insert(3,80)\n",
        "t.insert(4,100)\n",
        "\n",
        "s.merge(t)\n",
        "s.display()\n",
        "\n",
        "# should be 10\n",
        "print(\"s size: \", s.size()) \n",
        "\n",
        "# should be 0 -> check prob. description\n",
        "print(\"t size: \", t.size()) "
      ],
      "execution_count": null,
      "outputs": [
        {
          "output_type": "stream",
          "name": "stdout",
          "text": [
            "linkedstack:10 30 50 70 90 20 40 60 80 100 \n",
            "s size:  10\n",
            "t size:  0\n"
          ]
        }
      ]
    },
    {
      "cell_type": "markdown",
      "metadata": {
        "id": "l_jlkOyfYCeT"
      },
      "source": [
        "\n",
        "아래에 코드셀을 만들고, 셀에 6.3 에서 요구된 사항을 반영하여 myLinkedListQueue 클래스를 구현하시오. 구현하여야 하는 메소드는 교재 209 페이지에 구현된 CircularLinkedQueue 를 참조하여 동일 메소드를 문제에 맞게 변형하여 구현한다. \n",
        "\n"
      ]
    },
    {
      "cell_type": "code",
      "metadata": {
        "id": "scik6dfVV27l"
      },
      "source": [
        "class myLinkedListQueue:\n",
        "  def __init__(self):\n",
        "    self.front=None\n",
        "    self.rear=None\n",
        "  def isempty(self):\n",
        "    return self.front==None\n",
        "  def clear(self):\n",
        "    self.front=None\n",
        "    self.rear=None\n",
        "  def peek(self):\n",
        "    if not self.isempty():\n",
        "      return self.front.data\n",
        "  def getNode(self,pos):\n",
        "    if pos<0:\n",
        "      return None\n",
        "    node=self.front\n",
        "    while pos>0 and node!=None:\n",
        "      node=node.link\n",
        "      pos=pos-1\n",
        "    return node\n",
        "  def enqueue(self,item):\n",
        "    node=Node(item,None)\n",
        "    if self.front==None:\n",
        "      self.front=node\n",
        "      self.rear=node\n",
        "    else:\n",
        "      self.rear.link=node\n",
        "      self.rear=node\n",
        "  def dequeue(self):\n",
        "    if not self.isempty():\n",
        "      n=self.front.data\n",
        "      self.front=self.front.link\n",
        "    return n\n",
        "  def size(self):\n",
        "    if self.isempty():\n",
        "      return 0\n",
        "    else:\n",
        "      count=1\n",
        "      node=self.front\n",
        "      while not node==self.rear:\n",
        "        node=node.link\n",
        "        count=count+1\n",
        "      return count\n",
        "  def display(self,msg='linkedQueue:'):\n",
        "    print(msg,end='')\n",
        "    if not self.isempty():\n",
        "      node=self.front\n",
        "      while not node==self.rear:\n",
        "        print(node.data,end=' ')\n",
        "        node=node.link\n",
        "      print(node.data)\n",
        "    print()\n",
        "\n",
        "\n",
        "    \n",
        "      "
      ],
      "execution_count": null,
      "outputs": []
    },
    {
      "cell_type": "markdown",
      "metadata": {
        "id": "VZE7QAUdYY2k"
      },
      "source": [
        "아래 코드셀에 주어진 코드를 수정하지 않은 상태에서, myLinkedListQueue 클래스를 테스트하시오. "
      ]
    },
    {
      "cell_type": "code",
      "metadata": {
        "id": "T3NJ1CP-Z1IO",
        "colab": {
          "base_uri": "https://localhost:8080/"
        },
        "outputId": "f441a8b7-1b41-4c3a-f2a5-c2e2e2c5c295"
      },
      "source": [
        "# test code: DO NOT MODIFY\n",
        "s = myLinkedListQueue()\n",
        "s.enqueue(10); s.enqueue(20); s.enqueue(30); s.enqueue(50)\n",
        "s.enqueue(60); s.enqueue(70); s.enqueue(80); s.enqueue(90)\n",
        "\n",
        "s.dequeue(); s.dequeue(); s.dequeue()\n",
        "\n",
        "print(\"queue size: \", s.size())\n",
        "s.display()\n"
      ],
      "execution_count": null,
      "outputs": [
        {
          "output_type": "stream",
          "name": "stdout",
          "text": [
            "queue size:  5\n",
            "linkedQueue:50 60 70 80 90\n",
            "\n"
          ]
        }
      ]
    },
    {
      "cell_type": "markdown",
      "metadata": {
        "id": "yiB2DksAi5y1"
      },
      "source": [
        "##6.4\n"
      ]
    },
    {
      "cell_type": "markdown",
      "metadata": {
        "id": "cMqLFnjfi7ub"
      },
      "source": [
        "아래에 코드셀을 만들고, 셀에 6.4 에서 요구된 사항을 반영하여 myDoubleLinkedListQueue 클래스를 구현하시오."
      ]
    },
    {
      "cell_type": "code",
      "metadata": {
        "id": "RzHhvX7OfVNj"
      },
      "source": [
        "class DNode:\n",
        "  def __init__(self,elem,prev=None,next=None):\n",
        "    self.data=elem\n",
        "    self.prev=prev\n",
        "    self.next=next\n",
        "class myDoubleLinkedListQueue:\n",
        "  def __init__(self):\n",
        "    self.front=None\n",
        "    self.rear=None\n",
        "  def isempty(self):\n",
        "    return self.front==None\n",
        "  def clear(self):\n",
        "    self.front=None\n",
        "    self.rear=None\n",
        "  def size(self):\n",
        "    if self.isempty():\n",
        "      return 0\n",
        "    else:\n",
        "      count=1\n",
        "      node=self.front\n",
        "      while not node==self.rear:\n",
        "        node=node.next\n",
        "        count=count+1\n",
        "      return count\n",
        "  def display(self,msg=\"DoublelinkedQueue:\"):\n",
        "    print(msg,end='')\n",
        "    if not self.isempty():\n",
        "      node=self.front\n",
        "      while not node==self.rear:\n",
        "        print(node.data,end=' ')\n",
        "        node=node.next\n",
        "      print(node.data)\n",
        "  def enqueue(self,item):\n",
        "    node=DNode(item,self.rear,None)\n",
        "    if self.isempty():\n",
        "      self.front=self.rear=node\n",
        "    else:\n",
        "      self.rear.next=node\n",
        "      self.rear=node\n",
        "  def dequeue(self):\n",
        "    if not self.isempty():\n",
        "      data=self.front.data\n",
        "      self.front=self.front.next\n",
        "      if self.front==None:\n",
        "        self.rear=None\n",
        "      else:\n",
        "        self.front.prev=None\n",
        "      return data"
      ],
      "execution_count": null,
      "outputs": []
    },
    {
      "cell_type": "markdown",
      "metadata": {
        "id": "CppsIX0yjG-P"
      },
      "source": [
        "아래 코드셀에 주어진 코드를 수정하지 않은 상태에서, myDoubleLinkedListQueue 클래스를 테스트하시오."
      ]
    },
    {
      "cell_type": "code",
      "metadata": {
        "id": "TtN9_KX9jL3J",
        "colab": {
          "base_uri": "https://localhost:8080/"
        },
        "outputId": "3d25225f-9c15-4e3b-9996-17b049e78952"
      },
      "source": [
        "# test code: DO NOT MODIFY\n",
        "d = myDoubleLinkedListQueue()\n",
        "d.enqueue(10); d.enqueue(20); d.enqueue(30); d.enqueue(50)\n",
        "d.enqueue(60); d.enqueue(70); d.enqueue(80); d.enqueue(90)\n",
        "\n",
        "d.dequeue(); d.dequeue(); d.dequeue()\n",
        "\n",
        "print(\"queue size: \", d.size())\n",
        "d.display()"
      ],
      "execution_count": null,
      "outputs": [
        {
          "output_type": "stream",
          "name": "stdout",
          "text": [
            "queue size:  5\n",
            "DoublelinkedQueue:50 60 70 80 90\n"
          ]
        }
      ]
    }
  ]
}