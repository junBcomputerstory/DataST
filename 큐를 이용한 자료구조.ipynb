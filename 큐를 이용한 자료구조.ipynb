{
  "nbformat": 4,
  "nbformat_minor": 0,
  "metadata": {
    "colab": {
      "name": "2021-2-DataST-HW6-석홍준-32172086.ipynb",
      "provenance": [],
      "collapsed_sections": []
    },
    "kernelspec": {
      "name": "python3",
      "display_name": "Python 3"
    },
    "language_info": {
      "name": "python"
    }
  },
  "cells": [
    {
      "cell_type": "markdown",
      "metadata": {
        "id": "Gag1en13KazR"
      },
      "source": [
        "## 5.3 \n",
        "\n",
        "아래에 코드셀을 만들고, 셀에 함수 myFibonacci 을 작성. "
      ]
    },
    {
      "cell_type": "code",
      "metadata": {
        "id": "oROlP7qhJS-u"
      },
      "source": [
        "MAX_QSIZE=10\n",
        "class CircularQueue:\n",
        "  def __init__(self):\n",
        "    self.front=0\n",
        "    self.rear=0\n",
        "    self.items=[None]*MAX_QSIZE\n",
        "  def isempty(self):\n",
        "    return self.front==self.rear\n",
        "  def isfull(self):\n",
        "    return self.front==(self.rear+1)% MAX_QSIZE\n",
        "  def clear(self):\n",
        "    self.front=self.rear\n",
        "  def enqueue(self,item):\n",
        "    if not self.isfull():\n",
        "      self.rear=(self.rear+1)%MAX_QSIZE\n",
        "      self.items[self.rear]=item\n",
        "  def dequeue(self):\n",
        "    if not self.isempty():\n",
        "      self.front=(self.front+1)%MAX_QSIZE\n",
        "      return self.items[self.front]\n",
        "  def peek(self):\n",
        "    if not self.isempty():\n",
        "      return self.items[(self.front+1)%MAX_QSIZE]\n",
        "  def size(self):\n",
        "    return(self.rear-self.front+MAX_QSIZE)%MAX_QSIZE\n",
        "  def display(self):\n",
        "    out=[]\n",
        "    if self.front<self.rear:\n",
        "      out=self.items[self.front+1:self.rear+1]\n",
        "    else:\n",
        "      out=self.items[self.front+1:MAX_QSIZE]+self.items[0:self.rear+1]\n",
        "    print(\"f=%d,r=%d\"%(self.front,self.rear),out)\n",
        "\n",
        "def myFibonacci(num):\n",
        "  q=CircularQueue()\n",
        "  if num<=2:\n",
        "    print(\"1\")\n",
        "  else:\n",
        "    a=[]\n",
        "    q.enqueue(1)\n",
        "    q.enqueue(1)\n",
        "    for i in range(3,num+1,1):\n",
        "      answer=q.items[(i%MAX_QSIZE)-1]+q.items[(i%MAX_QSIZE)-2]\n",
        "      a.append(q.dequeue())\n",
        "      q.enqueue(answer)\n",
        "    a.append(q.dequeue())\n",
        "    a.append(q.dequeue())\n",
        "  return a    \n",
        "\n",
        "\n"
      ],
      "execution_count": null,
      "outputs": []
    },
    {
      "cell_type": "markdown",
      "metadata": {
        "id": "MPF9N1VNKyYb"
      },
      "source": [
        "아래에 코드셀을 만들고, myFibonacci 함수를 호출하여,   myFibonacci(10)의 결과를 출력하시오. "
      ]
    },
    {
      "cell_type": "code",
      "metadata": {
        "colab": {
          "base_uri": "https://localhost:8080/"
        },
        "id": "v6fhGs6uAmfQ",
        "outputId": "51bfbf0e-eb9e-48a8-8393-6648ad4a93fd"
      },
      "source": [
        "print(myFibonacci(13))"
      ],
      "execution_count": null,
      "outputs": [
        {
          "output_type": "stream",
          "name": "stdout",
          "text": [
            "[1, 1, 2, 3, 5, 8, 13, 21, 34, 55, 89, 144, 233]\n"
          ]
        }
      ]
    },
    {
      "cell_type": "markdown",
      "metadata": {
        "id": "KVDXivqYWgD6"
      },
      "source": [
        "#5.4\n"
      ]
    },
    {
      "cell_type": "markdown",
      "metadata": {
        "id": "l_jlkOyfYCeT"
      },
      "source": [
        "\n",
        "아래에 코드셀을 만들고, 셀에 5.4 에서 요구된 사항을 반영하여 checkPalindromeByDeque 를 구현하시오. \n",
        "\n"
      ]
    },
    {
      "cell_type": "code",
      "metadata": {
        "id": "ZVyUs_IaDF23"
      },
      "source": [
        "from collections import deque  \n",
        "def checkPalindromeByDeque(sen):\n",
        "  sen=sen.lower()\n",
        "  a=deque()\n",
        "  b=[]\n",
        "  num=0\n",
        "  for i in range(len(sen)):\n",
        "    if 'a'<=sen[i]<='z':\n",
        "      b.append(sen[i])\n",
        "      a.appendleft(sen[i])\n",
        "      print(a)\n",
        "  for i in range(0,len(b),1):\n",
        "    if not b[i]==a[i]:\n",
        "      num=num+1\n",
        "  if num==0:\n",
        "    print(\"회문입니다.\")\n",
        "  else:\n",
        "    print(\"회문이아닙니다.\")  \n",
        "\n",
        "\n",
        "\n",
        "\n",
        "        \n",
        "  \n",
        "      \n",
        "\n",
        "      \n",
        "\n",
        "\n"
      ],
      "execution_count": null,
      "outputs": []
    },
    {
      "cell_type": "markdown",
      "metadata": {
        "id": "VZE7QAUdYY2k"
      },
      "source": [
        "테스트: 아래에 코드셀을 만들고, 위에서 작성된 checkPalindromeByDeque 를 **다음** 입력에 대하여 테스트하시오.\n",
        "- \"madam, I'm Adam', 'race car'"
      ]
    },
    {
      "cell_type": "code",
      "metadata": {
        "id": "T3NJ1CP-Z1IO",
        "colab": {
          "base_uri": "https://localhost:8080/"
        },
        "outputId": "320381fc-bba2-42b0-e4fb-8def4020dfad"
      },
      "source": [
        "checkPalindromeByDeque(\"madam,I'm Adam\")\n",
        "checkPalindromeByDeque(\"race car\")\n",
        "checkPalindromeByDeque(\"im Not Stupid\")"
      ],
      "execution_count": null,
      "outputs": [
        {
          "output_type": "stream",
          "name": "stdout",
          "text": [
            "deque(['m'])\n",
            "deque(['a', 'm'])\n",
            "deque(['d', 'a', 'm'])\n",
            "deque(['a', 'd', 'a', 'm'])\n",
            "deque(['m', 'a', 'd', 'a', 'm'])\n",
            "deque(['i', 'm', 'a', 'd', 'a', 'm'])\n",
            "deque(['m', 'i', 'm', 'a', 'd', 'a', 'm'])\n",
            "deque(['a', 'm', 'i', 'm', 'a', 'd', 'a', 'm'])\n",
            "deque(['d', 'a', 'm', 'i', 'm', 'a', 'd', 'a', 'm'])\n",
            "deque(['a', 'd', 'a', 'm', 'i', 'm', 'a', 'd', 'a', 'm'])\n",
            "deque(['m', 'a', 'd', 'a', 'm', 'i', 'm', 'a', 'd', 'a', 'm'])\n",
            "회문입니다.\n",
            "deque(['r'])\n",
            "deque(['a', 'r'])\n",
            "deque(['c', 'a', 'r'])\n",
            "deque(['e', 'c', 'a', 'r'])\n",
            "deque(['c', 'e', 'c', 'a', 'r'])\n",
            "deque(['a', 'c', 'e', 'c', 'a', 'r'])\n",
            "deque(['r', 'a', 'c', 'e', 'c', 'a', 'r'])\n",
            "회문입니다.\n",
            "deque(['i'])\n",
            "deque(['m', 'i'])\n",
            "deque(['n', 'm', 'i'])\n",
            "deque(['o', 'n', 'm', 'i'])\n",
            "deque(['t', 'o', 'n', 'm', 'i'])\n",
            "deque(['s', 't', 'o', 'n', 'm', 'i'])\n",
            "deque(['t', 's', 't', 'o', 'n', 'm', 'i'])\n",
            "deque(['u', 't', 's', 't', 'o', 'n', 'm', 'i'])\n",
            "deque(['p', 'u', 't', 's', 't', 'o', 'n', 'm', 'i'])\n",
            "deque(['i', 'p', 'u', 't', 's', 't', 'o', 'n', 'm', 'i'])\n",
            "deque(['d', 'i', 'p', 'u', 't', 's', 't', 'o', 'n', 'm', 'i'])\n",
            "회문이아닙니다.\n"
          ]
        }
      ]
    }
  ]
}